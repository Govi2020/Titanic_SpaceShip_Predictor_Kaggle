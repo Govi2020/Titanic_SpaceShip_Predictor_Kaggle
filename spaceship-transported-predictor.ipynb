{
 "cells": [
  {
   "cell_type": "code",
   "execution_count": 1,
   "id": "f3d31c8a",
   "metadata": {
    "_cell_guid": "b1076dfc-b9ad-4769-8c92-a6c4dae69d19",
    "_uuid": "8f2839f25d086af736a60e9eeb907d3b93b6e0e5",
    "execution": {
     "iopub.execute_input": "2022-07-28T08:11:22.452581Z",
     "iopub.status.busy": "2022-07-28T08:11:22.451650Z",
     "iopub.status.idle": "2022-07-28T08:11:22.469350Z",
     "shell.execute_reply": "2022-07-28T08:11:22.468095Z"
    },
    "papermill": {
     "duration": 0.029783,
     "end_time": "2022-07-28T08:11:22.472342",
     "exception": false,
     "start_time": "2022-07-28T08:11:22.442559",
     "status": "completed"
    },
    "tags": []
   },
   "outputs": [
    {
     "name": "stdout",
     "output_type": "stream",
     "text": [
      "/kaggle/input/spaceship-titanic/sample_submission.csv\n",
      "/kaggle/input/spaceship-titanic/train.csv\n",
      "/kaggle/input/spaceship-titanic/test.csv\n"
     ]
    }
   ],
   "source": [
    "# This Python 3 environment comes with many helpful analytics libraries installed\n",
    "# It is defined by the kaggle/python Docker image: https://github.com/kaggle/docker-python\n",
    "# For example, here's several helpful packages to load\n",
    "\n",
    "import numpy as np # linear algebra\n",
    "import pandas as pd # data processing, CSV file I/O (e.g. pd.read_csv)\n",
    "\n",
    "# Input data files are available in the read-only \"../input/\" directory\n",
    "# For example, running this (by clicking run or pressing Shift+Enter) will list all files under the input directory\n",
    "\n",
    "import os\n",
    "for dirname, _, filenames in os.walk('/kaggle/input'):\n",
    "    for filename in filenames:\n",
    "        print(os.path.join(dirname, filename))\n",
    "\n",
    "# You can write up to 20GB to the current directory (/kaggle/working/) that gets preserved as output when you create a version using \"Save & Run All\" \n",
    "# You can also write temporary files to /kaggle/temp/, but they won't be saved outside of the current session\n"
   ]
  },
  {
   "cell_type": "code",
   "execution_count": 2,
   "id": "6e3ca6f3",
   "metadata": {
    "execution": {
     "iopub.execute_input": "2022-07-28T08:11:22.486063Z",
     "iopub.status.busy": "2022-07-28T08:11:22.485662Z",
     "iopub.status.idle": "2022-07-28T08:11:22.535156Z",
     "shell.execute_reply": "2022-07-28T08:11:22.534165Z"
    },
    "papermill": {
     "duration": 0.059192,
     "end_time": "2022-07-28T08:11:22.537732",
     "exception": false,
     "start_time": "2022-07-28T08:11:22.478540",
     "status": "completed"
    },
    "tags": []
   },
   "outputs": [],
   "source": [
    "data = pd.read_csv(\"kaggle/input/spaceship-titanic/train.csv\")"
   ]
  },
  {
   "cell_type": "code",
   "execution_count": 3,
   "id": "b49dcdb1",
   "metadata": {
    "execution": {
     "iopub.execute_input": "2022-07-28T08:11:22.551238Z",
     "iopub.status.busy": "2022-07-28T08:11:22.550012Z",
     "iopub.status.idle": "2022-07-28T08:11:22.584510Z",
     "shell.execute_reply": "2022-07-28T08:11:22.583311Z"
    },
    "papermill": {
     "duration": 0.043996,
     "end_time": "2022-07-28T08:11:22.587255",
     "exception": false,
     "start_time": "2022-07-28T08:11:22.543259",
     "status": "completed"
    },
    "tags": []
   },
   "outputs": [
    {
     "data": {
      "text/html": [
       "<div>\n",
       "<style scoped>\n",
       "    .dataframe tbody tr th:only-of-type {\n",
       "        vertical-align: middle;\n",
       "    }\n",
       "\n",
       "    .dataframe tbody tr th {\n",
       "        vertical-align: top;\n",
       "    }\n",
       "\n",
       "    .dataframe thead th {\n",
       "        text-align: right;\n",
       "    }\n",
       "</style>\n",
       "<table border=\"1\" class=\"dataframe\">\n",
       "  <thead>\n",
       "    <tr style=\"text-align: right;\">\n",
       "      <th></th>\n",
       "      <th>PassengerId</th>\n",
       "      <th>HomePlanet</th>\n",
       "      <th>CryoSleep</th>\n",
       "      <th>Cabin</th>\n",
       "      <th>Destination</th>\n",
       "      <th>Age</th>\n",
       "      <th>VIP</th>\n",
       "      <th>RoomService</th>\n",
       "      <th>FoodCourt</th>\n",
       "      <th>ShoppingMall</th>\n",
       "      <th>Spa</th>\n",
       "      <th>VRDeck</th>\n",
       "      <th>Name</th>\n",
       "      <th>Transported</th>\n",
       "    </tr>\n",
       "  </thead>\n",
       "  <tbody>\n",
       "    <tr>\n",
       "      <th>0</th>\n",
       "      <td>0001_01</td>\n",
       "      <td>Europa</td>\n",
       "      <td>False</td>\n",
       "      <td>B/0/P</td>\n",
       "      <td>TRAPPIST-1e</td>\n",
       "      <td>39.0</td>\n",
       "      <td>False</td>\n",
       "      <td>0.0</td>\n",
       "      <td>0.0</td>\n",
       "      <td>0.0</td>\n",
       "      <td>0.0</td>\n",
       "      <td>0.0</td>\n",
       "      <td>Maham Ofracculy</td>\n",
       "      <td>False</td>\n",
       "    </tr>\n",
       "    <tr>\n",
       "      <th>1</th>\n",
       "      <td>0002_01</td>\n",
       "      <td>Earth</td>\n",
       "      <td>False</td>\n",
       "      <td>F/0/S</td>\n",
       "      <td>TRAPPIST-1e</td>\n",
       "      <td>24.0</td>\n",
       "      <td>False</td>\n",
       "      <td>109.0</td>\n",
       "      <td>9.0</td>\n",
       "      <td>25.0</td>\n",
       "      <td>549.0</td>\n",
       "      <td>44.0</td>\n",
       "      <td>Juanna Vines</td>\n",
       "      <td>True</td>\n",
       "    </tr>\n",
       "    <tr>\n",
       "      <th>2</th>\n",
       "      <td>0003_01</td>\n",
       "      <td>Europa</td>\n",
       "      <td>False</td>\n",
       "      <td>A/0/S</td>\n",
       "      <td>TRAPPIST-1e</td>\n",
       "      <td>58.0</td>\n",
       "      <td>True</td>\n",
       "      <td>43.0</td>\n",
       "      <td>3576.0</td>\n",
       "      <td>0.0</td>\n",
       "      <td>6715.0</td>\n",
       "      <td>49.0</td>\n",
       "      <td>Altark Susent</td>\n",
       "      <td>False</td>\n",
       "    </tr>\n",
       "    <tr>\n",
       "      <th>3</th>\n",
       "      <td>0003_02</td>\n",
       "      <td>Europa</td>\n",
       "      <td>False</td>\n",
       "      <td>A/0/S</td>\n",
       "      <td>TRAPPIST-1e</td>\n",
       "      <td>33.0</td>\n",
       "      <td>False</td>\n",
       "      <td>0.0</td>\n",
       "      <td>1283.0</td>\n",
       "      <td>371.0</td>\n",
       "      <td>3329.0</td>\n",
       "      <td>193.0</td>\n",
       "      <td>Solam Susent</td>\n",
       "      <td>False</td>\n",
       "    </tr>\n",
       "    <tr>\n",
       "      <th>4</th>\n",
       "      <td>0004_01</td>\n",
       "      <td>Earth</td>\n",
       "      <td>False</td>\n",
       "      <td>F/1/S</td>\n",
       "      <td>TRAPPIST-1e</td>\n",
       "      <td>16.0</td>\n",
       "      <td>False</td>\n",
       "      <td>303.0</td>\n",
       "      <td>70.0</td>\n",
       "      <td>151.0</td>\n",
       "      <td>565.0</td>\n",
       "      <td>2.0</td>\n",
       "      <td>Willy Santantines</td>\n",
       "      <td>True</td>\n",
       "    </tr>\n",
       "  </tbody>\n",
       "</table>\n",
       "</div>"
      ],
      "text/plain": [
       "  PassengerId HomePlanet CryoSleep  Cabin  Destination   Age    VIP  \\\n",
       "0     0001_01     Europa     False  B/0/P  TRAPPIST-1e  39.0  False   \n",
       "1     0002_01      Earth     False  F/0/S  TRAPPIST-1e  24.0  False   \n",
       "2     0003_01     Europa     False  A/0/S  TRAPPIST-1e  58.0   True   \n",
       "3     0003_02     Europa     False  A/0/S  TRAPPIST-1e  33.0  False   \n",
       "4     0004_01      Earth     False  F/1/S  TRAPPIST-1e  16.0  False   \n",
       "\n",
       "   RoomService  FoodCourt  ShoppingMall     Spa  VRDeck               Name  \\\n",
       "0          0.0        0.0           0.0     0.0     0.0    Maham Ofracculy   \n",
       "1        109.0        9.0          25.0   549.0    44.0       Juanna Vines   \n",
       "2         43.0     3576.0           0.0  6715.0    49.0      Altark Susent   \n",
       "3          0.0     1283.0         371.0  3329.0   193.0       Solam Susent   \n",
       "4        303.0       70.0         151.0   565.0     2.0  Willy Santantines   \n",
       "\n",
       "   Transported  \n",
       "0        False  \n",
       "1         True  \n",
       "2        False  \n",
       "3        False  \n",
       "4         True  "
      ]
     },
     "execution_count": 3,
     "metadata": {},
     "output_type": "execute_result"
    }
   ],
   "source": [
    "data.head()"
   ]
  },
  {
   "cell_type": "code",
   "execution_count": 4,
   "id": "65357007",
   "metadata": {
    "execution": {
     "iopub.execute_input": "2022-07-28T08:11:22.600934Z",
     "iopub.status.busy": "2022-07-28T08:11:22.600246Z",
     "iopub.status.idle": "2022-07-28T08:11:22.887786Z",
     "shell.execute_reply": "2022-07-28T08:11:22.886524Z"
    },
    "papermill": {
     "duration": 0.297422,
     "end_time": "2022-07-28T08:11:22.890516",
     "exception": false,
     "start_time": "2022-07-28T08:11:22.593094",
     "status": "completed"
    },
    "tags": []
   },
   "outputs": [
    {
     "data": {
      "text/plain": [
       "<AxesSubplot:xlabel='VIP'>"
      ]
     },
     "execution_count": 4,
     "metadata": {},
     "output_type": "execute_result"
    },
    {
     "data": {
      "image/png": "[encoded data removed]",
      "text/plain": [
       "<Figure size 432x288 with 1 Axes>"
      ]
     },
     "metadata": {
      "needs_background": "light"
     },
     "output_type": "display_data"
    }
   ],
   "source": [
    "pd.crosstab(data.VIP,data.Transported).plot(kind=\"bar\")"
   ]
  },
  {
   "cell_type": "code",
   "execution_count": 5,
   "id": "f6978a93",
   "metadata": {
    "execution": {
     "iopub.execute_input": "2022-07-28T08:11:22.905335Z",
     "iopub.status.busy": "2022-07-28T08:11:22.904545Z",
     "iopub.status.idle": "2022-07-28T08:11:23.116927Z",
     "shell.execute_reply": "2022-07-28T08:11:23.115520Z"
    },
    "papermill": {
     "duration": 0.223608,
     "end_time": "2022-07-28T08:11:23.120467",
     "exception": false,
     "start_time": "2022-07-28T08:11:22.896859",
     "status": "completed"
    },
    "tags": []
   },
   "outputs": [
    {
     "data": {
      "text/plain": [
       "<AxesSubplot:xlabel='HomePlanet'>"
      ]
     },
     "execution_count": 5,
     "metadata": {},
     "output_type": "execute_result"
    },
    {
     "data": {
      "image/png": "[encoded data removed]",
      "text/plain": [
       "<Figure size 432x288 with 1 Axes>"
      ]
     },
     "metadata": {
      "needs_background": "light"
     },
     "output_type": "display_data"
    }
   ],
   "source": [
    "pd.crosstab(data.HomePlanet,data.Transported).plot(kind=\"bar\")"
   ]
  },
  {
   "cell_type": "code",
   "execution_count": 6,
   "id": "af86f383",
   "metadata": {
    "execution": {
     "iopub.execute_input": "2022-07-28T08:11:23.142320Z",
     "iopub.status.busy": "2022-07-28T08:11:23.141752Z",
     "iopub.status.idle": "2022-07-28T08:11:23.382187Z",
     "shell.execute_reply": "2022-07-28T08:11:23.380970Z"
    },
    "papermill": {
     "duration": 0.254977,
     "end_time": "2022-07-28T08:11:23.384909",
     "exception": false,
     "start_time": "2022-07-28T08:11:23.129932",
     "status": "completed"
    },
    "tags": []
   },
   "outputs": [
    {
     "data": {
      "text/plain": [
       "<AxesSubplot:xlabel='Age'>"
      ]
     },
     "execution_count": 6,
     "metadata": {},
     "output_type": "execute_result"
    },
    {
     "data": {
      "image/png": "[encoded data removed]",
      "text/plain": [
       "<Figure size 432x288 with 1 Axes>"
      ]
     },
     "metadata": {
      "needs_background": "light"
     },
     "output_type": "display_data"
    }
   ],
   "source": [
    "pd.crosstab(data.Age,data.Transported).plot()"
   ]
  },
  {
   "cell_type": "code",
   "execution_count": 7,
   "id": "97584a05",
   "metadata": {
    "execution": {
     "iopub.execute_input": "2022-07-28T08:11:23.401196Z",
     "iopub.status.busy": "2022-07-28T08:11:23.400793Z",
     "iopub.status.idle": "2022-07-28T08:11:23.612079Z",
     "shell.execute_reply": "2022-07-28T08:11:23.610831Z"
    },
    "papermill": {
     "duration": 0.222593,
     "end_time": "2022-07-28T08:11:23.614907",
     "exception": false,
     "start_time": "2022-07-28T08:11:23.392314",
     "status": "completed"
    },
    "tags": []
   },
   "outputs": [
    {
     "data": {
      "text/plain": [
       "<AxesSubplot:xlabel='CryoSleep'>"
      ]
     },
     "execution_count": 7,
     "metadata": {},
     "output_type": "execute_result"
    },
    {
     "data": {
      "image/png": "[encoded data removed]",
      "text/plain": [
       "<Figure size 432x288 with 1 Axes>"
      ]
     },
     "metadata": {
      "needs_background": "light"
     },
     "output_type": "display_data"
    }
   ],
   "source": [
    "pd.crosstab(data.CryoSleep,data.Transported).plot(kind=\"bar\")"
   ]
  },
  {
   "cell_type": "code",
   "execution_count": 8,
   "id": "f48600eb",
   "metadata": {
    "execution": {
     "iopub.execute_input": "2022-07-28T08:11:23.631995Z",
     "iopub.status.busy": "2022-07-28T08:11:23.631603Z",
     "iopub.status.idle": "2022-07-28T08:11:23.846263Z",
     "shell.execute_reply": "2022-07-28T08:11:23.845291Z"
    },
    "papermill": {
     "duration": 0.226311,
     "end_time": "2022-07-28T08:11:23.848831",
     "exception": false,
     "start_time": "2022-07-28T08:11:23.622520",
     "status": "completed"
    },
    "tags": []
   },
   "outputs": [
    {
     "data": {
      "text/plain": [
       "<AxesSubplot:xlabel='Destination'>"
      ]
     },
     "execution_count": 8,
     "metadata": {},
     "output_type": "execute_result"
    },
    {
     "data": {
      "image/png": "[encoded data removed]",
      "text/plain": [
       "<Figure size 432x288 with 1 Axes>"
      ]
     },
     "metadata": {
      "needs_background": "light"
     },
     "output_type": "display_data"
    }
   ],
   "source": [
    "pd.crosstab(data.Destination,data.Transported).plot(kind=\"bar\")"
   ]
  },
  {
   "cell_type": "code",
   "execution_count": 9,
   "id": "86d30c25",
   "metadata": {
    "execution": {
     "iopub.execute_input": "2022-07-28T08:11:23.866465Z",
     "iopub.status.busy": "2022-07-28T08:11:23.866036Z",
     "iopub.status.idle": "2022-07-28T08:11:23.889997Z",
     "shell.execute_reply": "2022-07-28T08:11:23.888812Z"
    },
    "papermill": {
     "duration": 0.035791,
     "end_time": "2022-07-28T08:11:23.892446",
     "exception": false,
     "start_time": "2022-07-28T08:11:23.856655",
     "status": "completed"
    },
    "tags": []
   },
   "outputs": [
    {
     "data": {
      "text/html": [
       "<div>\n",
       "<style scoped>\n",
       "    .dataframe tbody tr th:only-of-type {\n",
       "        vertical-align: middle;\n",
       "    }\n",
       "\n",
       "    .dataframe tbody tr th {\n",
       "        vertical-align: top;\n",
       "    }\n",
       "\n",
       "    .dataframe thead th {\n",
       "        text-align: right;\n",
       "    }\n",
       "</style>\n",
       "<table border=\"1\" class=\"dataframe\">\n",
       "  <thead>\n",
       "    <tr style=\"text-align: right;\">\n",
       "      <th></th>\n",
       "      <th>PassengerId</th>\n",
       "      <th>HomePlanet</th>\n",
       "      <th>CryoSleep</th>\n",
       "      <th>Cabin</th>\n",
       "      <th>Destination</th>\n",
       "      <th>Age</th>\n",
       "      <th>VIP</th>\n",
       "      <th>RoomService</th>\n",
       "      <th>FoodCourt</th>\n",
       "      <th>ShoppingMall</th>\n",
       "      <th>Spa</th>\n",
       "      <th>VRDeck</th>\n",
       "      <th>Name</th>\n",
       "      <th>Transported</th>\n",
       "    </tr>\n",
       "  </thead>\n",
       "  <tbody>\n",
       "    <tr>\n",
       "      <th>0</th>\n",
       "      <td>0001_01</td>\n",
       "      <td>Europa</td>\n",
       "      <td>False</td>\n",
       "      <td>B/0/P</td>\n",
       "      <td>TRAPPIST-1e</td>\n",
       "      <td>39.0</td>\n",
       "      <td>False</td>\n",
       "      <td>0.0</td>\n",
       "      <td>0.0</td>\n",
       "      <td>0.0</td>\n",
       "      <td>0.0</td>\n",
       "      <td>0.0</td>\n",
       "      <td>Maham Ofracculy</td>\n",
       "      <td>False</td>\n",
       "    </tr>\n",
       "    <tr>\n",
       "      <th>1</th>\n",
       "      <td>0002_01</td>\n",
       "      <td>Earth</td>\n",
       "      <td>False</td>\n",
       "      <td>F/0/S</td>\n",
       "      <td>TRAPPIST-1e</td>\n",
       "      <td>24.0</td>\n",
       "      <td>False</td>\n",
       "      <td>109.0</td>\n",
       "      <td>9.0</td>\n",
       "      <td>25.0</td>\n",
       "      <td>549.0</td>\n",
       "      <td>44.0</td>\n",
       "      <td>Juanna Vines</td>\n",
       "      <td>True</td>\n",
       "    </tr>\n",
       "    <tr>\n",
       "      <th>2</th>\n",
       "      <td>0003_01</td>\n",
       "      <td>Europa</td>\n",
       "      <td>False</td>\n",
       "      <td>A/0/S</td>\n",
       "      <td>TRAPPIST-1e</td>\n",
       "      <td>58.0</td>\n",
       "      <td>True</td>\n",
       "      <td>43.0</td>\n",
       "      <td>3576.0</td>\n",
       "      <td>0.0</td>\n",
       "      <td>6715.0</td>\n",
       "      <td>49.0</td>\n",
       "      <td>Altark Susent</td>\n",
       "      <td>False</td>\n",
       "    </tr>\n",
       "    <tr>\n",
       "      <th>3</th>\n",
       "      <td>0003_02</td>\n",
       "      <td>Europa</td>\n",
       "      <td>False</td>\n",
       "      <td>A/0/S</td>\n",
       "      <td>TRAPPIST-1e</td>\n",
       "      <td>33.0</td>\n",
       "      <td>False</td>\n",
       "      <td>0.0</td>\n",
       "      <td>1283.0</td>\n",
       "      <td>371.0</td>\n",
       "      <td>3329.0</td>\n",
       "      <td>193.0</td>\n",
       "      <td>Solam Susent</td>\n",
       "      <td>False</td>\n",
       "    </tr>\n",
       "    <tr>\n",
       "      <th>4</th>\n",
       "      <td>0004_01</td>\n",
       "      <td>Earth</td>\n",
       "      <td>False</td>\n",
       "      <td>F/1/S</td>\n",
       "      <td>TRAPPIST-1e</td>\n",
       "      <td>16.0</td>\n",
       "      <td>False</td>\n",
       "      <td>303.0</td>\n",
       "      <td>70.0</td>\n",
       "      <td>151.0</td>\n",
       "      <td>565.0</td>\n",
       "      <td>2.0</td>\n",
       "      <td>Willy Santantines</td>\n",
       "      <td>True</td>\n",
       "    </tr>\n",
       "  </tbody>\n",
       "</table>\n",
       "</div>"
      ],
      "text/plain": [
       "  PassengerId HomePlanet CryoSleep  Cabin  Destination   Age    VIP  \\\n",
       "0     0001_01     Europa     False  B/0/P  TRAPPIST-1e  39.0  False   \n",
       "1     0002_01      Earth     False  F/0/S  TRAPPIST-1e  24.0  False   \n",
       "2     0003_01     Europa     False  A/0/S  TRAPPIST-1e  58.0   True   \n",
       "3     0003_02     Europa     False  A/0/S  TRAPPIST-1e  33.0  False   \n",
       "4     0004_01      Earth     False  F/1/S  TRAPPIST-1e  16.0  False   \n",
       "\n",
       "   RoomService  FoodCourt  ShoppingMall     Spa  VRDeck               Name  \\\n",
       "0          0.0        0.0           0.0     0.0     0.0    Maham Ofracculy   \n",
       "1        109.0        9.0          25.0   549.0    44.0       Juanna Vines   \n",
       "2         43.0     3576.0           0.0  6715.0    49.0      Altark Susent   \n",
       "3          0.0     1283.0         371.0  3329.0   193.0       Solam Susent   \n",
       "4        303.0       70.0         151.0   565.0     2.0  Willy Santantines   \n",
       "\n",
       "   Transported  \n",
       "0        False  \n",
       "1         True  \n",
       "2        False  \n",
       "3        False  \n",
       "4         True  "
      ]
     },
     "execution_count": 9,
     "metadata": {},
     "output_type": "execute_result"
    }
   ],
   "source": [
    "data.head()"
   ]
  },
  {
   "cell_type": "code",
   "execution_count": 10,
   "id": "e1d63ce0",
   "metadata": {
    "execution": {
     "iopub.execute_input": "2022-07-28T08:11:23.912530Z",
     "iopub.status.busy": "2022-07-28T08:11:23.912127Z",
     "iopub.status.idle": "2022-07-28T08:11:23.919481Z",
     "shell.execute_reply": "2022-07-28T08:11:23.918560Z"
    },
    "papermill": {
     "duration": 0.018968,
     "end_time": "2022-07-28T08:11:23.921772",
     "exception": false,
     "start_time": "2022-07-28T08:11:23.902804",
     "status": "completed"
    },
    "tags": []
   },
   "outputs": [],
   "source": [
    "data = data.drop(['PassengerId','Cabin','Age','VIP','RoomService','FoodCourt',\"ShoppingMall\",\"Spa\",\"VRDeck\",\"Name\"],axis=\"columns\")"
   ]
  },
  {
   "cell_type": "code",
   "execution_count": 11,
   "id": "87c53747",
   "metadata": {
    "execution": {
     "iopub.execute_input": "2022-07-28T08:11:23.939800Z",
     "iopub.status.busy": "2022-07-28T08:11:23.938746Z",
     "iopub.status.idle": "2022-07-28T08:11:25.115753Z",
     "shell.execute_reply": "2022-07-28T08:11:25.114627Z"
    },
    "papermill": {
     "duration": 1.189083,
     "end_time": "2022-07-28T08:11:25.118686",
     "exception": false,
     "start_time": "2022-07-28T08:11:23.929603",
     "status": "completed"
    },
    "tags": []
   },
   "outputs": [],
   "source": [
    "from sklearn.preprocessing import LabelEncoder\n",
    "\n",
    "encoder = LabelEncoder()\n",
    "\n",
    "data.HomePlanet = encoder.fit_transform(data['HomePlanet'])\n",
    "data.CryoSleep = encoder.fit_transform(data['CryoSleep'])\n",
    "data.Destination = encoder.fit_transform(data['Destination'])\n",
    "data.Transported = encoder.fit_transform(data['Transported'])"
   ]
  },
  {
   "cell_type": "code",
   "execution_count": 12,
   "id": "a48bbff4",
   "metadata": {
    "execution": {
     "iopub.execute_input": "2022-07-28T08:11:25.136810Z",
     "iopub.status.busy": "2022-07-28T08:11:25.136394Z",
     "iopub.status.idle": "2022-07-28T08:11:25.148385Z",
     "shell.execute_reply": "2022-07-28T08:11:25.147119Z"
    },
    "papermill": {
     "duration": 0.023897,
     "end_time": "2022-07-28T08:11:25.150838",
     "exception": false,
     "start_time": "2022-07-28T08:11:25.126941",
     "status": "completed"
    },
    "tags": []
   },
   "outputs": [
    {
     "data": {
      "text/html": [
       "<div>\n",
       "<style scoped>\n",
       "    .dataframe tbody tr th:only-of-type {\n",
       "        vertical-align: middle;\n",
       "    }\n",
       "\n",
       "    .dataframe tbody tr th {\n",
       "        vertical-align: top;\n",
       "    }\n",
       "\n",
       "    .dataframe thead th {\n",
       "        text-align: right;\n",
       "    }\n",
       "</style>\n",
       "<table border=\"1\" class=\"dataframe\">\n",
       "  <thead>\n",
       "    <tr style=\"text-align: right;\">\n",
       "      <th></th>\n",
       "      <th>HomePlanet</th>\n",
       "      <th>CryoSleep</th>\n",
       "      <th>Destination</th>\n",
       "      <th>Transported</th>\n",
       "    </tr>\n",
       "  </thead>\n",
       "  <tbody>\n",
       "    <tr>\n",
       "      <th>0</th>\n",
       "      <td>1</td>\n",
       "      <td>0</td>\n",
       "      <td>2</td>\n",
       "      <td>0</td>\n",
       "    </tr>\n",
       "    <tr>\n",
       "      <th>1</th>\n",
       "      <td>0</td>\n",
       "      <td>0</td>\n",
       "      <td>2</td>\n",
       "      <td>1</td>\n",
       "    </tr>\n",
       "    <tr>\n",
       "      <th>2</th>\n",
       "      <td>1</td>\n",
       "      <td>0</td>\n",
       "      <td>2</td>\n",
       "      <td>0</td>\n",
       "    </tr>\n",
       "    <tr>\n",
       "      <th>3</th>\n",
       "      <td>1</td>\n",
       "      <td>0</td>\n",
       "      <td>2</td>\n",
       "      <td>0</td>\n",
       "    </tr>\n",
       "    <tr>\n",
       "      <th>4</th>\n",
       "      <td>0</td>\n",
       "      <td>0</td>\n",
       "      <td>2</td>\n",
       "      <td>1</td>\n",
       "    </tr>\n",
       "  </tbody>\n",
       "</table>\n",
       "</div>"
      ],
      "text/plain": [
       "   HomePlanet  CryoSleep  Destination  Transported\n",
       "0           1          0            2            0\n",
       "1           0          0            2            1\n",
       "2           1          0            2            0\n",
       "3           1          0            2            0\n",
       "4           0          0            2            1"
      ]
     },
     "execution_count": 12,
     "metadata": {},
     "output_type": "execute_result"
    }
   ],
   "source": [
    "data.head()"
   ]
  },
  {
   "cell_type": "code",
   "execution_count": 13,
   "id": "bb5f07b5",
   "metadata": {
    "execution": {
     "iopub.execute_input": "2022-07-28T08:11:25.169427Z",
     "iopub.status.busy": "2022-07-28T08:11:25.168984Z",
     "iopub.status.idle": "2022-07-28T08:11:25.182367Z",
     "shell.execute_reply": "2022-07-28T08:11:25.181099Z"
    },
    "papermill": {
     "duration": 0.02577,
     "end_time": "2022-07-28T08:11:25.184863",
     "exception": false,
     "start_time": "2022-07-28T08:11:25.159093",
     "status": "completed"
    },
    "tags": []
   },
   "outputs": [
    {
     "data": {
      "text/html": [
       "<div>\n",
       "<style scoped>\n",
       "    .dataframe tbody tr th:only-of-type {\n",
       "        vertical-align: middle;\n",
       "    }\n",
       "\n",
       "    .dataframe tbody tr th {\n",
       "        vertical-align: top;\n",
       "    }\n",
       "\n",
       "    .dataframe thead th {\n",
       "        text-align: right;\n",
       "    }\n",
       "</style>\n",
       "<table border=\"1\" class=\"dataframe\">\n",
       "  <thead>\n",
       "    <tr style=\"text-align: right;\">\n",
       "      <th></th>\n",
       "      <th>HomePlanet</th>\n",
       "      <th>CryoSleep</th>\n",
       "      <th>Destination</th>\n",
       "    </tr>\n",
       "  </thead>\n",
       "  <tbody>\n",
       "    <tr>\n",
       "      <th>0</th>\n",
       "      <td>1</td>\n",
       "      <td>0</td>\n",
       "      <td>2</td>\n",
       "    </tr>\n",
       "    <tr>\n",
       "      <th>1</th>\n",
       "      <td>0</td>\n",
       "      <td>0</td>\n",
       "      <td>2</td>\n",
       "    </tr>\n",
       "    <tr>\n",
       "      <th>2</th>\n",
       "      <td>1</td>\n",
       "      <td>0</td>\n",
       "      <td>2</td>\n",
       "    </tr>\n",
       "    <tr>\n",
       "      <th>3</th>\n",
       "      <td>1</td>\n",
       "      <td>0</td>\n",
       "      <td>2</td>\n",
       "    </tr>\n",
       "    <tr>\n",
       "      <th>4</th>\n",
       "      <td>0</td>\n",
       "      <td>0</td>\n",
       "      <td>2</td>\n",
       "    </tr>\n",
       "  </tbody>\n",
       "</table>\n",
       "</div>"
      ],
      "text/plain": [
       "   HomePlanet  CryoSleep  Destination\n",
       "0           1          0            2\n",
       "1           0          0            2\n",
       "2           1          0            2\n",
       "3           1          0            2\n",
       "4           0          0            2"
      ]
     },
     "execution_count": 13,
     "metadata": {},
     "output_type": "execute_result"
    }
   ],
   "source": [
    "target = data['Transported']\n",
    "data = data.drop(['Transported'],axis=\"columns\")\n",
    "data.head()"
   ]
  },
  {
   "cell_type": "code",
   "execution_count": 14,
   "id": "84817479",
   "metadata": {
    "execution": {
     "iopub.execute_input": "2022-07-28T08:11:25.205647Z",
     "iopub.status.busy": "2022-07-28T08:11:25.204853Z",
     "iopub.status.idle": "2022-07-28T08:11:25.500831Z",
     "shell.execute_reply": "2022-07-28T08:11:25.499759Z"
    },
    "papermill": {
     "duration": 0.309961,
     "end_time": "2022-07-28T08:11:25.503598",
     "exception": false,
     "start_time": "2022-07-28T08:11:25.193637",
     "status": "completed"
    },
    "tags": []
   },
   "outputs": [],
   "source": [
    "from sklearn.ensemble import RandomForestClassifier"
   ]
  },
  {
   "cell_type": "code",
   "execution_count": 15,
   "id": "423f761f",
   "metadata": {
    "execution": {
     "iopub.execute_input": "2022-07-28T08:11:25.522370Z",
     "iopub.status.busy": "2022-07-28T08:11:25.521650Z",
     "iopub.status.idle": "2022-07-28T08:11:25.571398Z",
     "shell.execute_reply": "2022-07-28T08:11:25.569985Z"
    },
    "papermill": {
     "duration": 0.062257,
     "end_time": "2022-07-28T08:11:25.574184",
     "exception": false,
     "start_time": "2022-07-28T08:11:25.511927",
     "status": "completed"
    },
    "tags": []
   },
   "outputs": [
    {
     "data": {
      "text/plain": [
       "RandomForestClassifier(n_estimators=10)"
      ]
     },
     "execution_count": 15,
     "metadata": {},
     "output_type": "execute_result"
    }
   ],
   "source": [
    "model = RandomForestClassifier(n_estimators=10)\n",
    "model.fit(data,target)"
   ]
  },
  {
   "cell_type": "code",
   "execution_count": 16,
   "id": "9fb00ab0",
   "metadata": {
    "execution": {
     "iopub.execute_input": "2022-07-28T08:11:25.593309Z",
     "iopub.status.busy": "2022-07-28T08:11:25.592860Z",
     "iopub.status.idle": "2022-07-28T08:11:25.627611Z",
     "shell.execute_reply": "2022-07-28T08:11:25.626529Z"
    },
    "papermill": {
     "duration": 0.047648,
     "end_time": "2022-07-28T08:11:25.630551",
     "exception": false,
     "start_time": "2022-07-28T08:11:25.582903",
     "status": "completed"
    },
    "tags": []
   },
   "outputs": [],
   "source": [
    "test_data = pd.read_csv(\"kaggle/input/spaceship-titanic/test.csv\")\n",
    "test_passengerId = test_data['PassengerId']\n",
    "test_data = test_data.drop(['PassengerId','Cabin','Age','VIP','RoomService','FoodCourt',\"ShoppingMall\",\"Spa\",\"VRDeck\",\"Name\"],axis=\"columns\")\n",
    "test_data.HomePlanet = encoder.fit_transform(test_data['HomePlanet'])\n",
    "test_data.CryoSleep = encoder.fit_transform(test_data['CryoSleep'])\n",
    "test_data.Destination = encoder.fit_transform(test_data['Destination'])"
   ]
  },
  {
   "cell_type": "code",
   "execution_count": 17,
   "id": "7a8afad1",
   "metadata": {
    "execution": {
     "iopub.execute_input": "2022-07-28T08:11:25.650076Z",
     "iopub.status.busy": "2022-07-28T08:11:25.648883Z",
     "iopub.status.idle": "2022-07-28T08:11:25.663767Z",
     "shell.execute_reply": "2022-07-28T08:11:25.662848Z"
    },
    "papermill": {
     "duration": 0.026742,
     "end_time": "2022-07-28T08:11:25.666044",
     "exception": false,
     "start_time": "2022-07-28T08:11:25.639302",
     "status": "completed"
    },
    "tags": []
   },
   "outputs": [
    {
     "data": {
      "text/plain": [
       "array([1, 0, 1, ..., 1, 0, 1])"
      ]
     },
     "execution_count": 17,
     "metadata": {},
     "output_type": "execute_result"
    }
   ],
   "source": [
    "predicted_data = model.predict(test_data)\n",
    "predicted_data"
   ]
  },
  {
   "cell_type": "code",
   "execution_count": 18,
   "id": "33b30ec2",
   "metadata": {
    "execution": {
     "iopub.execute_input": "2022-07-28T08:11:25.686003Z",
     "iopub.status.busy": "2022-07-28T08:11:25.684976Z",
     "iopub.status.idle": "2022-07-28T08:11:25.690549Z",
     "shell.execute_reply": "2022-07-28T08:11:25.689677Z"
    },
    "papermill": {
     "duration": 0.017699,
     "end_time": "2022-07-28T08:11:25.692688",
     "exception": false,
     "start_time": "2022-07-28T08:11:25.674989",
     "status": "completed"
    },
    "tags": []
   },
   "outputs": [],
   "source": [
    "submitData = pd.DataFrame(data={\"PassengerId\": test_passengerId,\"Transported\":predicted_data})"
   ]
  },
  {
   "cell_type": "code",
   "execution_count": 19,
   "id": "2e4ca0fd",
   "metadata": {
    "execution": {
     "iopub.execute_input": "2022-07-28T08:11:25.711894Z",
     "iopub.status.busy": "2022-07-28T08:11:25.711159Z",
     "iopub.status.idle": "2022-07-28T08:11:25.724279Z",
     "shell.execute_reply": "2022-07-28T08:11:25.723362Z"
    },
    "papermill": {
     "duration": 0.025434,
     "end_time": "2022-07-28T08:11:25.726695",
     "exception": false,
     "start_time": "2022-07-28T08:11:25.701261",
     "status": "completed"
    },
    "tags": []
   },
   "outputs": [],
   "source": [
    "submitData.to_csv(\"submission.csv\",index=False)"
   ]
  },
  {
   "cell_type": "code",
   "execution_count": null,
   "id": "51209b16",
   "metadata": {
    "papermill": {
     "duration": 0.008102,
     "end_time": "2022-07-28T08:11:25.743407",
     "exception": false,
     "start_time": "2022-07-28T08:11:25.735305",
     "status": "completed"
    },
    "tags": []
   },
   "outputs": [],
   "source": []
  }
 ],
 "metadata": {
  "kernelspec": {
   "display_name": "Python 3",
   "language": "python",
   "name": "python3"
  },
  "language_info": {
   "codemirror_mode": {
    "name": "ipython",
    "version": 3
   },
   "file_extension": ".py",
   "mimetype": "text/x-python",
   "name": "python",
   "nbconvert_exporter": "python",
   "pygments_lexer": "ipython3",
   "version": "3.7.12"
  },
  "papermill": {
   "default_parameters": {},
   "duration": 14.592665,
   "end_time": "2022-07-28T08:11:26.573737",
   "environment_variables": {},
   "exception": null,
   "input_path": "__notebook__.ipynb",
   "output_path": "__notebook__.ipynb",
   "parameters": {},
   "start_time": "2022-07-28T08:11:11.981072",
   "version": "2.3.4"
  }
 },
 "nbformat": 4,
 "nbformat_minor": 5
}
